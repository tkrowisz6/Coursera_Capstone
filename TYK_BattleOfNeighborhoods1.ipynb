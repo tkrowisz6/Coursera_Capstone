{
 "cells": [
  {
   "cell_type": "markdown",
   "metadata": {},
   "source": [
    "## TYK Battle of the Neighborhoods"
   ]
  },
  {
   "cell_type": "markdown",
   "metadata": {},
   "source": [
    "#### Toni Krowisz  June 2020"
   ]
  },
  {
   "cell_type": "markdown",
   "metadata": {},
   "source": [
    "## Problem Description and Background\n"
   ]
  },
  {
   "cell_type": "markdown",
   "metadata": {},
   "source": [
    "One of our clients <em><b>LiveLong</b></em> has petitioned our firm to gather and analyze some research for healthy food cafes. They are requesting some recommendations on the best cities in which such cafes have the potential to be profitable and have a positive impact in that community. <em><b>LiveLong' s</b></em> goal is to target two cities for launching their initial health food cafes, and checking the results of revenue and positive impact in the community. The criteria is to target neighborhoods that have larger concentrations of venues for healthy choice activities with lowest rate of competition. "
   ]
  },
  {
   "cell_type": "markdown",
   "metadata": {},
   "source": [
    "## Data Description and Approach"
   ]
  },
  {
   "cell_type": "markdown",
   "metadata": {},
   "source": [
    "Results from a study posted by Adam McCann, February 10, 2020  <em><b>Healthiest and Unhealthiest Cities in America</b></em> provides rankings for the healthiest and most unhealthy cities. A further analysis will be done to make a determination of which two cities may be chosen for analysis, according to their total health score rankings. \n",
    "\n",
    "The top 5 healthiest cities , along with the 5 lowest ranking healthy cities will be chosen from this previous study. \n",
    "Within these cities, we will gather Foursquare location data for venues that represent healthy choice activities, i.e. parks with bike and/or hiking trails, gyms, and/or organic food stores, along with other types of cafes in the area. The healthy choice activities will give insight to the potential market in the neighborhoods. The other types of cafes in the area will give insight to potential competitors. \n",
    "\n",
    "Of these venues, we will gather data to understand visitor ratings.\n",
    "The location data and other descriptive information will be visually presented on a map. \n",
    "\n",
    "Two locations will be recommended based on the concentration of nearby healthy choice activity venues, and the ratings of potential competitors. It is most likely that people who frequent healthy choice activity venues may be the best market for a healthy foods café.\n"
   ]
  },
  {
   "cell_type": "code",
   "execution_count": null,
   "metadata": {},
   "outputs": [],
   "source": []
  }
 ],
 "metadata": {
  "kernelspec": {
   "display_name": "Python 3",
   "language": "python",
   "name": "python3"
  },
  "language_info": {
   "codemirror_mode": {
    "name": "ipython",
    "version": 3
   },
   "file_extension": ".py",
   "mimetype": "text/x-python",
   "name": "python",
   "nbconvert_exporter": "python",
   "pygments_lexer": "ipython3",
   "version": "3.7.6"
  }
 },
 "nbformat": 4,
 "nbformat_minor": 4
}
