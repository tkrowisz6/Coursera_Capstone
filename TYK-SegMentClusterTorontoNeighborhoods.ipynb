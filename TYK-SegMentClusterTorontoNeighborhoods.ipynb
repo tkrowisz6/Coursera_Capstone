{
 "cells": [
  {
   "cell_type": "markdown",
   "metadata": {},
   "source": [
    "## Segmenting and Clustering Neighborhoods in Toronto Project\n",
    "#### Toni Krowisz - Applied Data Science Capstone Course\n",
    "\n",
    "*Use the Notebook to build the code to scrape the following Wikipedia page, https://en.wikipedia.org/wiki/List_of_postal_codes_of_Canada:_M, in order to obtain the data that is in the table of postal codes and to transform the data into a pandas dataframe.*\n",
    "\n",
    "*Chose Beautiful Soup to use for webscraping.  Ignore records for which Borough is 'Not assigned'.  \n",
    " For rows that have an assigned Borough but Neighborhood is not assigned, set the Neighborhood same as Borough.  Any Postal codes that are listed more than once, with different neighborhoods, combine into one row\n",
    "listing each of it's neighborhoods. \n",
    "\n",
    "Also, get the latitude and longitude coordinates for each postal code to include with the dataframe.\n"
   ]
  },
  {
   "cell_type": "markdown",
   "metadata": {},
   "source": [
    "### Use Beautiful Soup to scrap the html from the page"
   ]
  },
  {
   "cell_type": "code",
   "execution_count": 162,
   "metadata": {},
   "outputs": [],
   "source": [
    "from bs4 import BeautifulSoup \n",
    "\n",
    "#import requests and pull data from the wikipedia page\n",
    "import requests \n",
    "\n",
    "URL = \"https://en.wikipedia.org/wiki/List_of_postal_codes_of_Canada:_M\"\n",
    "r = requests.get(URL) \n",
    "  \n",
    "soup = BeautifulSoup(r.content, 'html5lib') \n",
    "#print(soup.prettify()) \n",
    "\n"
   ]
  },
  {
   "cell_type": "code",
   "execution_count": 163,
   "metadata": {},
   "outputs": [],
   "source": [
    "#grab the needed data from the table tags\n",
    "table = soup.find('table')\n",
    "table_rows = table.find_all('tr')\n",
    "for tr in table_rows:\n",
    "    td = tr.find_all('td')\n",
    "    row = [i.text for i in td]\n",
    "    #print(row)  #pulls each data element per row"
   ]
  },
  {
   "cell_type": "markdown",
   "metadata": {},
   "source": [
    "### Data pre-processing steps Part 1\n",
    "1. Some columns only have a newline character in it. Those column headers will be labeled 'not_needed#' so that we can set them for removal after creating dataframe. \n",
    "2. Once the unneccessary columns are removed, the first row will also be removed, because I have already added column headers when creating the dataframe. \n",
    "3. Re-index the dataframe, since rows have been removed. \n"
   ]
  },
  {
   "cell_type": "code",
   "execution_count": 164,
   "metadata": {
    "scrolled": true
   },
   "outputs": [
    {
     "name": "stdout",
     "output_type": "stream",
     "text": [
      "  not_needed1      Postal_Code not_needed2           Borough not_needed3  \\\n",
      "0          \\n  [Postal Code\\n]          \\n       [Borough\\n]          \\n   \n",
      "1          \\n          [M1A\\n]          \\n  [Not assigned\\n]          \\n   \n",
      "2          \\n          [M2A\\n]          \\n  [Not assigned\\n]          \\n   \n",
      "3          \\n          [M3A\\n]          \\n    [North York\\n]          \\n   \n",
      "4          \\n          [M4A\\n]          \\n    [North York\\n]          \\n   \n",
      "\n",
      "           Neighborhood  \n",
      "0      [Neighborhood\\n]  \n",
      "1      [Not assigned\\n]  \n",
      "2      [Not assigned\\n]  \n",
      "3         [Parkwoods\\n]  \n",
      "4  [Victoria Village\\n]  \n",
      "(181, 6)\n"
     ]
    }
   ],
   "source": [
    "import pandas as pd\n",
    "\n",
    "#set column names for the data.....so we can remove the columns with only newline character\n",
    "Column_names = (\"not_needed1\", \"Postal_Code\", \"not_needed2\", \"Borough\", \"not_needed3\", \"Neighborhood\")\n",
    "#data_type = str\n",
    "df = pd.DataFrame(data=table_rows, columns=Column_names)\n",
    "print (df.head())\n",
    "print (df.shape)"
   ]
  },
  {
   "cell_type": "code",
   "execution_count": 165,
   "metadata": {},
   "outputs": [
    {
     "data": {
      "text/plain": [
       "Index(['not_needed1', 'Postal_Code', 'not_needed2', 'Borough', 'not_needed3',\n",
       "       'Neighborhood'],\n",
       "      dtype='object')"
      ]
     },
     "execution_count": 165,
     "metadata": {},
     "output_type": "execute_result"
    }
   ],
   "source": [
    "df.columns"
   ]
  },
  {
   "cell_type": "code",
   "execution_count": 166,
   "metadata": {},
   "outputs": [
    {
     "data": {
      "text/html": [
       "<div>\n",
       "<style scoped>\n",
       "    .dataframe tbody tr th:only-of-type {\n",
       "        vertical-align: middle;\n",
       "    }\n",
       "\n",
       "    .dataframe tbody tr th {\n",
       "        vertical-align: top;\n",
       "    }\n",
       "\n",
       "    .dataframe thead th {\n",
       "        text-align: right;\n",
       "    }\n",
       "</style>\n",
       "<table border=\"1\" class=\"dataframe\">\n",
       "  <thead>\n",
       "    <tr style=\"text-align: right;\">\n",
       "      <th></th>\n",
       "      <th>not_needed1</th>\n",
       "      <th>Postal_Code</th>\n",
       "      <th>not_needed2</th>\n",
       "      <th>Borough</th>\n",
       "      <th>not_needed3</th>\n",
       "      <th>Neighborhood</th>\n",
       "    </tr>\n",
       "  </thead>\n",
       "  <tbody>\n",
       "    <tr>\n",
       "      <th>0</th>\n",
       "      <td>\\n</td>\n",
       "      <td>[Postal Code\\n]</td>\n",
       "      <td>\\n</td>\n",
       "      <td>[Borough\\n]</td>\n",
       "      <td>\\n</td>\n",
       "      <td>[Neighborhood\\n]</td>\n",
       "    </tr>\n",
       "    <tr>\n",
       "      <th>1</th>\n",
       "      <td>\\n</td>\n",
       "      <td>[M1A\\n]</td>\n",
       "      <td>\\n</td>\n",
       "      <td>[Not assigned\\n]</td>\n",
       "      <td>\\n</td>\n",
       "      <td>[Not assigned\\n]</td>\n",
       "    </tr>\n",
       "    <tr>\n",
       "      <th>2</th>\n",
       "      <td>\\n</td>\n",
       "      <td>[M2A\\n]</td>\n",
       "      <td>\\n</td>\n",
       "      <td>[Not assigned\\n]</td>\n",
       "      <td>\\n</td>\n",
       "      <td>[Not assigned\\n]</td>\n",
       "    </tr>\n",
       "    <tr>\n",
       "      <th>3</th>\n",
       "      <td>\\n</td>\n",
       "      <td>[M3A\\n]</td>\n",
       "      <td>\\n</td>\n",
       "      <td>[North York\\n]</td>\n",
       "      <td>\\n</td>\n",
       "      <td>[Parkwoods\\n]</td>\n",
       "    </tr>\n",
       "    <tr>\n",
       "      <th>4</th>\n",
       "      <td>\\n</td>\n",
       "      <td>[M4A\\n]</td>\n",
       "      <td>\\n</td>\n",
       "      <td>[North York\\n]</td>\n",
       "      <td>\\n</td>\n",
       "      <td>[Victoria Village\\n]</td>\n",
       "    </tr>\n",
       "  </tbody>\n",
       "</table>\n",
       "</div>"
      ],
      "text/plain": [
       "  not_needed1      Postal_Code not_needed2           Borough not_needed3  \\\n",
       "0          \\n  [Postal Code\\n]          \\n       [Borough\\n]          \\n   \n",
       "1          \\n          [M1A\\n]          \\n  [Not assigned\\n]          \\n   \n",
       "2          \\n          [M2A\\n]          \\n  [Not assigned\\n]          \\n   \n",
       "3          \\n          [M3A\\n]          \\n    [North York\\n]          \\n   \n",
       "4          \\n          [M4A\\n]          \\n    [North York\\n]          \\n   \n",
       "\n",
       "           Neighborhood  \n",
       "0      [Neighborhood\\n]  \n",
       "1      [Not assigned\\n]  \n",
       "2      [Not assigned\\n]  \n",
       "3         [Parkwoods\\n]  \n",
       "4  [Victoria Village\\n]  "
      ]
     },
     "execution_count": 166,
     "metadata": {},
     "output_type": "execute_result"
    }
   ],
   "source": [
    "df.head()"
   ]
  },
  {
   "cell_type": "code",
   "execution_count": 167,
   "metadata": {},
   "outputs": [
    {
     "data": {
      "text/html": [
       "<div>\n",
       "<style scoped>\n",
       "    .dataframe tbody tr th:only-of-type {\n",
       "        vertical-align: middle;\n",
       "    }\n",
       "\n",
       "    .dataframe tbody tr th {\n",
       "        vertical-align: top;\n",
       "    }\n",
       "\n",
       "    .dataframe thead th {\n",
       "        text-align: right;\n",
       "    }\n",
       "</style>\n",
       "<table border=\"1\" class=\"dataframe\">\n",
       "  <thead>\n",
       "    <tr style=\"text-align: right;\">\n",
       "      <th></th>\n",
       "      <th>not_needed1</th>\n",
       "      <th>Postal_Code</th>\n",
       "      <th>not_needed2</th>\n",
       "      <th>Borough</th>\n",
       "      <th>not_needed3</th>\n",
       "      <th>Neighborhood</th>\n",
       "    </tr>\n",
       "  </thead>\n",
       "  <tbody>\n",
       "    <tr>\n",
       "      <th>0</th>\n",
       "      <td>\\n</td>\n",
       "      <td>[Postal Code\\n]</td>\n",
       "      <td>\\n</td>\n",
       "      <td>[Borough\\n]</td>\n",
       "      <td>\\n</td>\n",
       "      <td>[Neighborhood\\n]</td>\n",
       "    </tr>\n",
       "    <tr>\n",
       "      <th>1</th>\n",
       "      <td>\\n</td>\n",
       "      <td>[M1A\\n]</td>\n",
       "      <td>\\n</td>\n",
       "      <td>[Not assigned\\n]</td>\n",
       "      <td>\\n</td>\n",
       "      <td>[Not assigned\\n]</td>\n",
       "    </tr>\n",
       "    <tr>\n",
       "      <th>2</th>\n",
       "      <td>\\n</td>\n",
       "      <td>[M2A\\n]</td>\n",
       "      <td>\\n</td>\n",
       "      <td>[Not assigned\\n]</td>\n",
       "      <td>\\n</td>\n",
       "      <td>[Not assigned\\n]</td>\n",
       "    </tr>\n",
       "    <tr>\n",
       "      <th>3</th>\n",
       "      <td>\\n</td>\n",
       "      <td>[M3A\\n]</td>\n",
       "      <td>\\n</td>\n",
       "      <td>[North York\\n]</td>\n",
       "      <td>\\n</td>\n",
       "      <td>[Parkwoods\\n]</td>\n",
       "    </tr>\n",
       "    <tr>\n",
       "      <th>4</th>\n",
       "      <td>\\n</td>\n",
       "      <td>[M4A\\n]</td>\n",
       "      <td>\\n</td>\n",
       "      <td>[North York\\n]</td>\n",
       "      <td>\\n</td>\n",
       "      <td>[Victoria Village\\n]</td>\n",
       "    </tr>\n",
       "  </tbody>\n",
       "</table>\n",
       "</div>"
      ],
      "text/plain": [
       "  not_needed1      Postal_Code not_needed2           Borough not_needed3  \\\n",
       "0          \\n  [Postal Code\\n]          \\n       [Borough\\n]          \\n   \n",
       "1          \\n          [M1A\\n]          \\n  [Not assigned\\n]          \\n   \n",
       "2          \\n          [M2A\\n]          \\n  [Not assigned\\n]          \\n   \n",
       "3          \\n          [M3A\\n]          \\n    [North York\\n]          \\n   \n",
       "4          \\n          [M4A\\n]          \\n    [North York\\n]          \\n   \n",
       "\n",
       "           Neighborhood  \n",
       "0      [Neighborhood\\n]  \n",
       "1      [Not assigned\\n]  \n",
       "2      [Not assigned\\n]  \n",
       "3         [Parkwoods\\n]  \n",
       "4  [Victoria Village\\n]  "
      ]
     },
     "execution_count": 167,
     "metadata": {},
     "output_type": "execute_result"
    }
   ],
   "source": [
    "#pre process begin\n",
    "df_process = df \n",
    "df_process.head()"
   ]
  },
  {
   "cell_type": "markdown",
   "metadata": {},
   "source": [
    "### Drop columns with \\n character in them 0, 2, 4 \n",
    "#### Then drop the first row, since we have already included headers"
   ]
  },
  {
   "cell_type": "code",
   "execution_count": 169,
   "metadata": {},
   "outputs": [
    {
     "data": {
      "text/html": [
       "<div>\n",
       "<style scoped>\n",
       "    .dataframe tbody tr th:only-of-type {\n",
       "        vertical-align: middle;\n",
       "    }\n",
       "\n",
       "    .dataframe tbody tr th {\n",
       "        vertical-align: top;\n",
       "    }\n",
       "\n",
       "    .dataframe thead th {\n",
       "        text-align: right;\n",
       "    }\n",
       "</style>\n",
       "<table border=\"1\" class=\"dataframe\">\n",
       "  <thead>\n",
       "    <tr style=\"text-align: right;\">\n",
       "      <th></th>\n",
       "      <th>Postal_Code</th>\n",
       "      <th>Borough</th>\n",
       "      <th>Neighborhood</th>\n",
       "    </tr>\n",
       "  </thead>\n",
       "  <tbody>\n",
       "    <tr>\n",
       "      <th>1</th>\n",
       "      <td>[M1A\\n]</td>\n",
       "      <td>[Not assigned\\n]</td>\n",
       "      <td>[Not assigned\\n]</td>\n",
       "    </tr>\n",
       "    <tr>\n",
       "      <th>2</th>\n",
       "      <td>[M2A\\n]</td>\n",
       "      <td>[Not assigned\\n]</td>\n",
       "      <td>[Not assigned\\n]</td>\n",
       "    </tr>\n",
       "    <tr>\n",
       "      <th>3</th>\n",
       "      <td>[M3A\\n]</td>\n",
       "      <td>[North York\\n]</td>\n",
       "      <td>[Parkwoods\\n]</td>\n",
       "    </tr>\n",
       "    <tr>\n",
       "      <th>4</th>\n",
       "      <td>[M4A\\n]</td>\n",
       "      <td>[North York\\n]</td>\n",
       "      <td>[Victoria Village\\n]</td>\n",
       "    </tr>\n",
       "    <tr>\n",
       "      <th>5</th>\n",
       "      <td>[M5A\\n]</td>\n",
       "      <td>[Downtown Toronto\\n]</td>\n",
       "      <td>[Regent Park, Harbourfront\\n]</td>\n",
       "    </tr>\n",
       "    <tr>\n",
       "      <th>6</th>\n",
       "      <td>[M6A\\n]</td>\n",
       "      <td>[North York\\n]</td>\n",
       "      <td>[Lawrence Manor, Lawrence Heights\\n]</td>\n",
       "    </tr>\n",
       "    <tr>\n",
       "      <th>7</th>\n",
       "      <td>[M7A\\n]</td>\n",
       "      <td>[Downtown Toronto\\n]</td>\n",
       "      <td>[Queen's Park, Ontario Provincial Government\\n]</td>\n",
       "    </tr>\n",
       "    <tr>\n",
       "      <th>8</th>\n",
       "      <td>[M8A\\n]</td>\n",
       "      <td>[Not assigned\\n]</td>\n",
       "      <td>[Not assigned\\n]</td>\n",
       "    </tr>\n",
       "    <tr>\n",
       "      <th>9</th>\n",
       "      <td>[M9A\\n]</td>\n",
       "      <td>[Etobicoke\\n]</td>\n",
       "      <td>[Islington Avenue, Humber Valley Village\\n]</td>\n",
       "    </tr>\n",
       "    <tr>\n",
       "      <th>10</th>\n",
       "      <td>[M1B\\n]</td>\n",
       "      <td>[Scarborough\\n]</td>\n",
       "      <td>[Malvern, Rouge\\n]</td>\n",
       "    </tr>\n",
       "  </tbody>\n",
       "</table>\n",
       "</div>"
      ],
      "text/plain": [
       "   Postal_Code               Borough  \\\n",
       "1      [M1A\\n]      [Not assigned\\n]   \n",
       "2      [M2A\\n]      [Not assigned\\n]   \n",
       "3      [M3A\\n]        [North York\\n]   \n",
       "4      [M4A\\n]        [North York\\n]   \n",
       "5      [M5A\\n]  [Downtown Toronto\\n]   \n",
       "6      [M6A\\n]        [North York\\n]   \n",
       "7      [M7A\\n]  [Downtown Toronto\\n]   \n",
       "8      [M8A\\n]      [Not assigned\\n]   \n",
       "9      [M9A\\n]         [Etobicoke\\n]   \n",
       "10     [M1B\\n]       [Scarborough\\n]   \n",
       "\n",
       "                                       Neighborhood  \n",
       "1                                  [Not assigned\\n]  \n",
       "2                                  [Not assigned\\n]  \n",
       "3                                     [Parkwoods\\n]  \n",
       "4                              [Victoria Village\\n]  \n",
       "5                     [Regent Park, Harbourfront\\n]  \n",
       "6              [Lawrence Manor, Lawrence Heights\\n]  \n",
       "7   [Queen's Park, Ontario Provincial Government\\n]  \n",
       "8                                  [Not assigned\\n]  \n",
       "9       [Islington Avenue, Humber Valley Village\\n]  \n",
       "10                               [Malvern, Rouge\\n]  "
      ]
     },
     "execution_count": 169,
     "metadata": {},
     "output_type": "execute_result"
    }
   ],
   "source": [
    "#drop the columns that just have only the newline character in them\n",
    "#not_needed1 = column 0, not_needed2 = column 2, and not_needed3 is column 4\n",
    "df_process.drop([\"not_needed1\",\"not_needed2\",\"not_needed3\"], axis=1, inplace=True)\n",
    "\n",
    "#drop the first row that has the html table headers in it. \n",
    "df_process.drop(index= 0, axis=0, inplace=True)\n",
    "df_process.head(10)\n"
   ]
  },
  {
   "cell_type": "code",
   "execution_count": 170,
   "metadata": {},
   "outputs": [
    {
     "data": {
      "text/plain": [
       "Int64Index([  1,   2,   3,   4,   5,   6,   7,   8,   9,  10,\n",
       "            ...\n",
       "            171, 172, 173, 174, 175, 176, 177, 178, 179, 180],\n",
       "           dtype='int64', length=180)"
      ]
     },
     "execution_count": 170,
     "metadata": {},
     "output_type": "execute_result"
    }
   ],
   "source": [
    "df_process.index"
   ]
  },
  {
   "cell_type": "markdown",
   "metadata": {},
   "source": [
    "### Reset index after first row and unneccessary columns removed."
   ]
  },
  {
   "cell_type": "code",
   "execution_count": 171,
   "metadata": {},
   "outputs": [
    {
     "data": {
      "text/html": [
       "<div>\n",
       "<style scoped>\n",
       "    .dataframe tbody tr th:only-of-type {\n",
       "        vertical-align: middle;\n",
       "    }\n",
       "\n",
       "    .dataframe tbody tr th {\n",
       "        vertical-align: top;\n",
       "    }\n",
       "\n",
       "    .dataframe thead th {\n",
       "        text-align: right;\n",
       "    }\n",
       "</style>\n",
       "<table border=\"1\" class=\"dataframe\">\n",
       "  <thead>\n",
       "    <tr style=\"text-align: right;\">\n",
       "      <th></th>\n",
       "      <th>Postal_Code</th>\n",
       "      <th>Borough</th>\n",
       "      <th>Neighborhood</th>\n",
       "    </tr>\n",
       "  </thead>\n",
       "  <tbody>\n",
       "    <tr>\n",
       "      <th>0</th>\n",
       "      <td>[M1A\\n]</td>\n",
       "      <td>[Not assigned\\n]</td>\n",
       "      <td>[Not assigned\\n]</td>\n",
       "    </tr>\n",
       "    <tr>\n",
       "      <th>1</th>\n",
       "      <td>[M2A\\n]</td>\n",
       "      <td>[Not assigned\\n]</td>\n",
       "      <td>[Not assigned\\n]</td>\n",
       "    </tr>\n",
       "    <tr>\n",
       "      <th>2</th>\n",
       "      <td>[M3A\\n]</td>\n",
       "      <td>[North York\\n]</td>\n",
       "      <td>[Parkwoods\\n]</td>\n",
       "    </tr>\n",
       "    <tr>\n",
       "      <th>3</th>\n",
       "      <td>[M4A\\n]</td>\n",
       "      <td>[North York\\n]</td>\n",
       "      <td>[Victoria Village\\n]</td>\n",
       "    </tr>\n",
       "    <tr>\n",
       "      <th>4</th>\n",
       "      <td>[M5A\\n]</td>\n",
       "      <td>[Downtown Toronto\\n]</td>\n",
       "      <td>[Regent Park, Harbourfront\\n]</td>\n",
       "    </tr>\n",
       "  </tbody>\n",
       "</table>\n",
       "</div>"
      ],
      "text/plain": [
       "  Postal_Code               Borough                   Neighborhood\n",
       "0     [M1A\\n]      [Not assigned\\n]               [Not assigned\\n]\n",
       "1     [M2A\\n]      [Not assigned\\n]               [Not assigned\\n]\n",
       "2     [M3A\\n]        [North York\\n]                  [Parkwoods\\n]\n",
       "3     [M4A\\n]        [North York\\n]           [Victoria Village\\n]\n",
       "4     [M5A\\n]  [Downtown Toronto\\n]  [Regent Park, Harbourfront\\n]"
      ]
     },
     "execution_count": 171,
     "metadata": {},
     "output_type": "execute_result"
    }
   ],
   "source": [
    "\n",
    "#reset index to begin at zero again, instead of 1, due to dropping the first row\n",
    "df_process.reset_index(drop=True,inplace=True)\n",
    "\n",
    "df_process.head()"
   ]
  },
  {
   "cell_type": "code",
   "execution_count": 172,
   "metadata": {},
   "outputs": [
    {
     "data": {
      "text/plain": [
       "RangeIndex(start=0, stop=180, step=1)"
      ]
     },
     "execution_count": 172,
     "metadata": {},
     "output_type": "execute_result"
    }
   ],
   "source": [
    "#check index after reset\n",
    "df_process.index"
   ]
  },
  {
   "cell_type": "markdown",
   "metadata": {},
   "source": [
    "### Processing data (cont) \n",
    "1. Clean up the html tags in the column values. \n",
    "2. Create new dataframe that does not include rows with Borough = 'Not assigned'"
   ]
  },
  {
   "cell_type": "code",
   "execution_count": 173,
   "metadata": {},
   "outputs": [
    {
     "name": "stdout",
     "output_type": "stream",
     "text": [
      "Postal_Code     object\n",
      "Borough         object\n",
      "Neighborhood    object\n",
      "dtype: object\n"
     ]
    },
    {
     "data": {
      "text/html": [
       "<div>\n",
       "<style scoped>\n",
       "    .dataframe tbody tr th:only-of-type {\n",
       "        vertical-align: middle;\n",
       "    }\n",
       "\n",
       "    .dataframe tbody tr th {\n",
       "        vertical-align: top;\n",
       "    }\n",
       "\n",
       "    .dataframe thead th {\n",
       "        text-align: right;\n",
       "    }\n",
       "</style>\n",
       "<table border=\"1\" class=\"dataframe\">\n",
       "  <thead>\n",
       "    <tr style=\"text-align: right;\">\n",
       "      <th></th>\n",
       "      <th>Postal_Code</th>\n",
       "      <th>Borough</th>\n",
       "      <th>Neighborhood</th>\n",
       "    </tr>\n",
       "  </thead>\n",
       "  <tbody>\n",
       "    <tr>\n",
       "      <th>0</th>\n",
       "      <td>M1A</td>\n",
       "      <td>Not assigned</td>\n",
       "      <td>Not assigned</td>\n",
       "    </tr>\n",
       "    <tr>\n",
       "      <th>1</th>\n",
       "      <td>M2A</td>\n",
       "      <td>Not assigned</td>\n",
       "      <td>Not assigned</td>\n",
       "    </tr>\n",
       "    <tr>\n",
       "      <th>2</th>\n",
       "      <td>M3A</td>\n",
       "      <td>North York</td>\n",
       "      <td>Parkwoods</td>\n",
       "    </tr>\n",
       "    <tr>\n",
       "      <th>3</th>\n",
       "      <td>M4A</td>\n",
       "      <td>North York</td>\n",
       "      <td>Victoria Village</td>\n",
       "    </tr>\n",
       "    <tr>\n",
       "      <th>4</th>\n",
       "      <td>M5A</td>\n",
       "      <td>Downtown Toronto</td>\n",
       "      <td>Regent Park, Harbourfront</td>\n",
       "    </tr>\n",
       "    <tr>\n",
       "      <th>...</th>\n",
       "      <td>...</td>\n",
       "      <td>...</td>\n",
       "      <td>...</td>\n",
       "    </tr>\n",
       "    <tr>\n",
       "      <th>175</th>\n",
       "      <td>M5Z</td>\n",
       "      <td>Not assigned</td>\n",
       "      <td>Not assigned</td>\n",
       "    </tr>\n",
       "    <tr>\n",
       "      <th>176</th>\n",
       "      <td>M6Z</td>\n",
       "      <td>Not assigned</td>\n",
       "      <td>Not assigned</td>\n",
       "    </tr>\n",
       "    <tr>\n",
       "      <th>177</th>\n",
       "      <td>M7Z</td>\n",
       "      <td>Not assigned</td>\n",
       "      <td>Not assigned</td>\n",
       "    </tr>\n",
       "    <tr>\n",
       "      <th>178</th>\n",
       "      <td>M8Z</td>\n",
       "      <td>Etobicoke</td>\n",
       "      <td>Mimico NW, The Queensway West, South of Bloor,...</td>\n",
       "    </tr>\n",
       "    <tr>\n",
       "      <th>179</th>\n",
       "      <td>M9Z</td>\n",
       "      <td>Not assigned</td>\n",
       "      <td>Not assigned</td>\n",
       "    </tr>\n",
       "  </tbody>\n",
       "</table>\n",
       "<p>180 rows × 3 columns</p>\n",
       "</div>"
      ],
      "text/plain": [
       "    Postal_Code           Borough  \\\n",
       "0           M1A      Not assigned   \n",
       "1           M2A      Not assigned   \n",
       "2           M3A        North York   \n",
       "3           M4A        North York   \n",
       "4           M5A  Downtown Toronto   \n",
       "..          ...               ...   \n",
       "175         M5Z      Not assigned   \n",
       "176         M6Z      Not assigned   \n",
       "177         M7Z      Not assigned   \n",
       "178         M8Z         Etobicoke   \n",
       "179         M9Z      Not assigned   \n",
       "\n",
       "                                          Neighborhood  \n",
       "0                                         Not assigned  \n",
       "1                                         Not assigned  \n",
       "2                                            Parkwoods  \n",
       "3                                     Victoria Village  \n",
       "4                            Regent Park, Harbourfront  \n",
       "..                                                 ...  \n",
       "175                                       Not assigned  \n",
       "176                                       Not assigned  \n",
       "177                                       Not assigned  \n",
       "178  Mimico NW, The Queensway West, South of Bloor,...  \n",
       "179                                       Not assigned  \n",
       "\n",
       "[180 rows x 3 columns]"
      ]
     },
     "execution_count": 173,
     "metadata": {},
     "output_type": "execute_result"
    }
   ],
   "source": [
    "#Do clean up of html tags in the data fields. \n",
    "df_removed_BoroughNA = df_process\n",
    "\n",
    "#convert values to string data types and remove html tags and newline characters\n",
    "# correct Postal_Code field\n",
    "df_removed_BoroughNA['Postal_Code'] = df_removed_BoroughNA['Postal_Code'].astype(str).str.replace('<td>', '')\n",
    "df_removed_BoroughNA['Postal_Code'] = df_removed_BoroughNA['Postal_Code'].astype(str).str.replace('\\n</td>', '')\n",
    "\n",
    "# Correct Borough field\n",
    "df_removed_BoroughNA['Borough'] = df_removed_BoroughNA['Borough'].astype(str).str.replace('<td>', '')\n",
    "df_removed_BoroughNA['Borough'] = df_removed_BoroughNA['Borough'].astype(str).str.replace('\\n</td>', '')\n",
    "\n",
    "#correct Neighborhood field\n",
    "df_removed_BoroughNA['Neighborhood'] = df_removed_BoroughNA['Neighborhood'].astype(str).str.replace('<td>', '')\n",
    "df_removed_BoroughNA['Neighborhood'] = df_removed_BoroughNA['Neighborhood'].astype(str).str.replace('\\n</td>', '')\n",
    "\n",
    "\n",
    "#df_removed_BoroughNA = df_removed_BoroughNA.to_string()\n",
    "print (df_removed_BoroughNA.dtypes)\n",
    "df_removed_BoroughNA\n"
   ]
  },
  {
   "cell_type": "code",
   "execution_count": 174,
   "metadata": {},
   "outputs": [
    {
     "data": {
      "text/plain": [
       "Not assigned        77\n",
       "North York          24\n",
       "Downtown Toronto    19\n",
       "Scarborough         17\n",
       "Etobicoke           12\n",
       "Central Toronto      9\n",
       "West Toronto         6\n",
       "York                 5\n",
       "East Toronto         5\n",
       "East York            5\n",
       "Mississauga          1\n",
       "Name: Borough, dtype: int64"
      ]
     },
     "execution_count": 174,
     "metadata": {},
     "output_type": "execute_result"
    }
   ],
   "source": [
    "#do value counts in Borough field to identify how many 'not assigned' we have\n",
    "df_removed_BoroughNA['Borough'].value_counts()"
   ]
  },
  {
   "cell_type": "code",
   "execution_count": 175,
   "metadata": {},
   "outputs": [
    {
     "data": {
      "text/plain": [
       "Not assigned                                             77\n",
       "Downsview                                                 4\n",
       "Don Mills                                                 2\n",
       "Wexford, Maryvale                                         1\n",
       "Dorset Park, Wexford Heights, Scarborough Town Centre     1\n",
       "                                                         ..\n",
       "Willowdale, Willowdale East                               1\n",
       "Harbourfront East, Union Station, Toronto Islands         1\n",
       "North Toronto West,  Lawrence Park                        1\n",
       "Birch Cliff, Cliffside West                               1\n",
       "Lawrence Park                                             1\n",
       "Name: Neighborhood, Length: 100, dtype: int64"
      ]
     },
     "execution_count": 175,
     "metadata": {},
     "output_type": "execute_result"
    }
   ],
   "source": [
    "df_removed_BoroughNA['Neighborhood'].value_counts()"
   ]
  },
  {
   "cell_type": "code",
   "execution_count": 176,
   "metadata": {},
   "outputs": [
    {
     "data": {
      "text/plain": [
       "RangeIndex(start=0, stop=180, step=1)"
      ]
     },
     "execution_count": 176,
     "metadata": {},
     "output_type": "execute_result"
    }
   ],
   "source": [
    "df_removed_BoroughNA.index"
   ]
  },
  {
   "cell_type": "code",
   "execution_count": 177,
   "metadata": {},
   "outputs": [
    {
     "data": {
      "text/html": [
       "<div>\n",
       "<style scoped>\n",
       "    .dataframe tbody tr th:only-of-type {\n",
       "        vertical-align: middle;\n",
       "    }\n",
       "\n",
       "    .dataframe tbody tr th {\n",
       "        vertical-align: top;\n",
       "    }\n",
       "\n",
       "    .dataframe thead th {\n",
       "        text-align: right;\n",
       "    }\n",
       "</style>\n",
       "<table border=\"1\" class=\"dataframe\">\n",
       "  <thead>\n",
       "    <tr style=\"text-align: right;\">\n",
       "      <th></th>\n",
       "      <th>Postal_Code</th>\n",
       "      <th>Borough</th>\n",
       "      <th>Neighborhood</th>\n",
       "    </tr>\n",
       "  </thead>\n",
       "  <tbody>\n",
       "    <tr>\n",
       "      <th>2</th>\n",
       "      <td>M3A</td>\n",
       "      <td>North York</td>\n",
       "      <td>Parkwoods</td>\n",
       "    </tr>\n",
       "    <tr>\n",
       "      <th>3</th>\n",
       "      <td>M4A</td>\n",
       "      <td>North York</td>\n",
       "      <td>Victoria Village</td>\n",
       "    </tr>\n",
       "    <tr>\n",
       "      <th>4</th>\n",
       "      <td>M5A</td>\n",
       "      <td>Downtown Toronto</td>\n",
       "      <td>Regent Park, Harbourfront</td>\n",
       "    </tr>\n",
       "    <tr>\n",
       "      <th>5</th>\n",
       "      <td>M6A</td>\n",
       "      <td>North York</td>\n",
       "      <td>Lawrence Manor, Lawrence Heights</td>\n",
       "    </tr>\n",
       "    <tr>\n",
       "      <th>6</th>\n",
       "      <td>M7A</td>\n",
       "      <td>Downtown Toronto</td>\n",
       "      <td>Queen's Park, Ontario Provincial Government</td>\n",
       "    </tr>\n",
       "    <tr>\n",
       "      <th>8</th>\n",
       "      <td>M9A</td>\n",
       "      <td>Etobicoke</td>\n",
       "      <td>Islington Avenue, Humber Valley Village</td>\n",
       "    </tr>\n",
       "    <tr>\n",
       "      <th>9</th>\n",
       "      <td>M1B</td>\n",
       "      <td>Scarborough</td>\n",
       "      <td>Malvern, Rouge</td>\n",
       "    </tr>\n",
       "    <tr>\n",
       "      <th>11</th>\n",
       "      <td>M3B</td>\n",
       "      <td>North York</td>\n",
       "      <td>Don Mills</td>\n",
       "    </tr>\n",
       "    <tr>\n",
       "      <th>12</th>\n",
       "      <td>M4B</td>\n",
       "      <td>East York</td>\n",
       "      <td>Parkview Hill, Woodbine Gardens</td>\n",
       "    </tr>\n",
       "    <tr>\n",
       "      <th>13</th>\n",
       "      <td>M5B</td>\n",
       "      <td>Downtown Toronto</td>\n",
       "      <td>Garden District, Ryerson</td>\n",
       "    </tr>\n",
       "  </tbody>\n",
       "</table>\n",
       "</div>"
      ],
      "text/plain": [
       "   Postal_Code           Borough                                 Neighborhood\n",
       "2          M3A        North York                                    Parkwoods\n",
       "3          M4A        North York                             Victoria Village\n",
       "4          M5A  Downtown Toronto                    Regent Park, Harbourfront\n",
       "5          M6A        North York             Lawrence Manor, Lawrence Heights\n",
       "6          M7A  Downtown Toronto  Queen's Park, Ontario Provincial Government\n",
       "8          M9A         Etobicoke      Islington Avenue, Humber Valley Village\n",
       "9          M1B       Scarborough                               Malvern, Rouge\n",
       "11         M3B        North York                                    Don Mills\n",
       "12         M4B         East York              Parkview Hill, Woodbine Gardens\n",
       "13         M5B  Downtown Toronto                     Garden District, Ryerson"
      ]
     },
     "execution_count": 177,
     "metadata": {},
     "output_type": "execute_result"
    }
   ],
   "source": [
    "#Find rows with good value for Borough, and create new dataframe\n",
    "#Do not include rows where Borough value is 'Not assigned'\n",
    "\n",
    "#create new dataframe\n",
    "newDf = df_removed_BoroughNA[(df_removed_BoroughNA['Borough'] != 'Not assigned')]\n",
    "\n",
    "newDf.head(10)"
   ]
  },
  {
   "cell_type": "code",
   "execution_count": 178,
   "metadata": {},
   "outputs": [
    {
     "name": "stdout",
     "output_type": "stream",
     "text": [
      "(103, 3)\n",
      "Int64Index([  2,   3,   4,   5,   6,   8,   9,  11,  12,  13,\n",
      "            ...\n",
      "            151, 152, 153, 156, 157, 160, 165, 168, 169, 178],\n",
      "           dtype='int64', length=103)\n"
     ]
    }
   ],
   "source": [
    "#check shape should be 180 minus 77 rows = 103 \n",
    "#we began with 181 rows, however, we removed the first row of html header\n",
    "print(newDf.shape)\n",
    "\n",
    "#also check index because of rows not inlcuded in this dataframe. \n",
    "print(newDf.index)"
   ]
  },
  {
   "cell_type": "code",
   "execution_count": 179,
   "metadata": {},
   "outputs": [
    {
     "data": {
      "text/plain": [
       "North York          24\n",
       "Downtown Toronto    19\n",
       "Scarborough         17\n",
       "Etobicoke           12\n",
       "Central Toronto      9\n",
       "West Toronto         6\n",
       "York                 5\n",
       "East Toronto         5\n",
       "East York            5\n",
       "Mississauga          1\n",
       "Name: Borough, dtype: int64"
      ]
     },
     "execution_count": 179,
     "metadata": {},
     "output_type": "execute_result"
    }
   ],
   "source": [
    "newDf['Borough'].value_counts() #check that 'Not assigned' values for Borough are no longer included"
   ]
  },
  {
   "cell_type": "code",
   "execution_count": 180,
   "metadata": {},
   "outputs": [
    {
     "name": "stdout",
     "output_type": "stream",
     "text": [
      "(103, 3)\n"
     ]
    },
    {
     "data": {
      "text/plain": [
       "(103, 3)"
      ]
     },
     "execution_count": 180,
     "metadata": {},
     "output_type": "execute_result"
    }
   ],
   "source": [
    "\n",
    "print (newDf.shape)\n",
    "\n",
    "newDf2 = newDf\n",
    "newDf2.shape"
   ]
  },
  {
   "cell_type": "markdown",
   "metadata": {},
   "source": [
    "### Find Not assigned values in Neighborhood, and set to be the same value as Borough"
   ]
  },
  {
   "cell_type": "code",
   "execution_count": 181,
   "metadata": {},
   "outputs": [],
   "source": [
    "import warnings # to keep the simple warnings from showing up as a result of SettingWithCopyWarning\n",
    "warnings.filterwarnings('ignore')\n",
    "\n",
    "newDf2[\"Neighborhood\"].replace('Not assigned', newDf2[\"Borough\"], inplace=True)"
   ]
  },
  {
   "cell_type": "code",
   "execution_count": 182,
   "metadata": {},
   "outputs": [
    {
     "data": {
      "text/html": [
       "<div>\n",
       "<style scoped>\n",
       "    .dataframe tbody tr th:only-of-type {\n",
       "        vertical-align: middle;\n",
       "    }\n",
       "\n",
       "    .dataframe tbody tr th {\n",
       "        vertical-align: top;\n",
       "    }\n",
       "\n",
       "    .dataframe thead th {\n",
       "        text-align: right;\n",
       "    }\n",
       "</style>\n",
       "<table border=\"1\" class=\"dataframe\">\n",
       "  <thead>\n",
       "    <tr style=\"text-align: right;\">\n",
       "      <th></th>\n",
       "      <th>Postal_Code</th>\n",
       "      <th>Borough</th>\n",
       "      <th>Neighborhood</th>\n",
       "    </tr>\n",
       "  </thead>\n",
       "  <tbody>\n",
       "    <tr>\n",
       "      <th>2</th>\n",
       "      <td>M3A</td>\n",
       "      <td>North York</td>\n",
       "      <td>Parkwoods</td>\n",
       "    </tr>\n",
       "    <tr>\n",
       "      <th>3</th>\n",
       "      <td>M4A</td>\n",
       "      <td>North York</td>\n",
       "      <td>Victoria Village</td>\n",
       "    </tr>\n",
       "    <tr>\n",
       "      <th>4</th>\n",
       "      <td>M5A</td>\n",
       "      <td>Downtown Toronto</td>\n",
       "      <td>Regent Park, Harbourfront</td>\n",
       "    </tr>\n",
       "    <tr>\n",
       "      <th>5</th>\n",
       "      <td>M6A</td>\n",
       "      <td>North York</td>\n",
       "      <td>Lawrence Manor, Lawrence Heights</td>\n",
       "    </tr>\n",
       "    <tr>\n",
       "      <th>6</th>\n",
       "      <td>M7A</td>\n",
       "      <td>Downtown Toronto</td>\n",
       "      <td>Queen's Park, Ontario Provincial Government</td>\n",
       "    </tr>\n",
       "    <tr>\n",
       "      <th>...</th>\n",
       "      <td>...</td>\n",
       "      <td>...</td>\n",
       "      <td>...</td>\n",
       "    </tr>\n",
       "    <tr>\n",
       "      <th>160</th>\n",
       "      <td>M8X</td>\n",
       "      <td>Etobicoke</td>\n",
       "      <td>The Kingsway, Montgomery Road, Old Mill North</td>\n",
       "    </tr>\n",
       "    <tr>\n",
       "      <th>165</th>\n",
       "      <td>M4Y</td>\n",
       "      <td>Downtown Toronto</td>\n",
       "      <td>Church and Wellesley</td>\n",
       "    </tr>\n",
       "    <tr>\n",
       "      <th>168</th>\n",
       "      <td>M7Y</td>\n",
       "      <td>East Toronto</td>\n",
       "      <td>Business reply mail Processing Centre, South C...</td>\n",
       "    </tr>\n",
       "    <tr>\n",
       "      <th>169</th>\n",
       "      <td>M8Y</td>\n",
       "      <td>Etobicoke</td>\n",
       "      <td>Old Mill South, King's Mill Park, Sunnylea, Hu...</td>\n",
       "    </tr>\n",
       "    <tr>\n",
       "      <th>178</th>\n",
       "      <td>M8Z</td>\n",
       "      <td>Etobicoke</td>\n",
       "      <td>Mimico NW, The Queensway West, South of Bloor,...</td>\n",
       "    </tr>\n",
       "  </tbody>\n",
       "</table>\n",
       "<p>103 rows × 3 columns</p>\n",
       "</div>"
      ],
      "text/plain": [
       "    Postal_Code           Borough  \\\n",
       "2           M3A        North York   \n",
       "3           M4A        North York   \n",
       "4           M5A  Downtown Toronto   \n",
       "5           M6A        North York   \n",
       "6           M7A  Downtown Toronto   \n",
       "..          ...               ...   \n",
       "160         M8X         Etobicoke   \n",
       "165         M4Y  Downtown Toronto   \n",
       "168         M7Y      East Toronto   \n",
       "169         M8Y         Etobicoke   \n",
       "178         M8Z         Etobicoke   \n",
       "\n",
       "                                          Neighborhood  \n",
       "2                                            Parkwoods  \n",
       "3                                     Victoria Village  \n",
       "4                            Regent Park, Harbourfront  \n",
       "5                     Lawrence Manor, Lawrence Heights  \n",
       "6          Queen's Park, Ontario Provincial Government  \n",
       "..                                                 ...  \n",
       "160      The Kingsway, Montgomery Road, Old Mill North  \n",
       "165                               Church and Wellesley  \n",
       "168  Business reply mail Processing Centre, South C...  \n",
       "169  Old Mill South, King's Mill Park, Sunnylea, Hu...  \n",
       "178  Mimico NW, The Queensway West, South of Bloor,...  \n",
       "\n",
       "[103 rows x 3 columns]"
      ]
     },
     "execution_count": 182,
     "metadata": {},
     "output_type": "execute_result"
    }
   ],
   "source": [
    "newDf2"
   ]
  },
  {
   "cell_type": "markdown",
   "metadata": {},
   "source": [
    "### check values to make sure there are no 'Not Assigned' values in the fields"
   ]
  },
  {
   "cell_type": "code",
   "execution_count": 184,
   "metadata": {},
   "outputs": [
    {
     "data": {
      "text/plain": [
       "Downsview                                                4\n",
       "Don Mills                                                2\n",
       "First Canadian Place, Underground city                   1\n",
       "Queen's Park, Ontario Provincial Government              1\n",
       "Kensington Market, Chinatown, Grange Park                1\n",
       "                                                        ..\n",
       "Parkview Hill, Woodbine Gardens                          1\n",
       "Dorset Park, Wexford Heights, Scarborough Town Centre    1\n",
       "Del Ray, Mount Dennis, Keelsdale and Silverthorn         1\n",
       "North Park, Maple Leaf Park, Upwood Park                 1\n",
       "Caledonia-Fairbanks                                      1\n",
       "Name: Neighborhood, Length: 99, dtype: int64"
      ]
     },
     "execution_count": 184,
     "metadata": {},
     "output_type": "execute_result"
    }
   ],
   "source": [
    "newDf2['Neighborhood'].value_counts()\n"
   ]
  },
  {
   "cell_type": "code",
   "execution_count": 185,
   "metadata": {},
   "outputs": [
    {
     "data": {
      "text/plain": [
       "North York          24\n",
       "Downtown Toronto    19\n",
       "Scarborough         17\n",
       "Etobicoke           12\n",
       "Central Toronto      9\n",
       "West Toronto         6\n",
       "York                 5\n",
       "East Toronto         5\n",
       "East York            5\n",
       "Mississauga          1\n",
       "Name: Borough, dtype: int64"
      ]
     },
     "execution_count": 185,
     "metadata": {},
     "output_type": "execute_result"
    }
   ],
   "source": [
    "newDf2['Borough'].value_counts()"
   ]
  },
  {
   "cell_type": "code",
   "execution_count": 186,
   "metadata": {},
   "outputs": [
    {
     "data": {
      "text/plain": [
       "Int64Index([  2,   3,   4,   5,   6,   8,   9,  11,  12,  13,\n",
       "            ...\n",
       "            151, 152, 153, 156, 157, 160, 165, 168, 169, 178],\n",
       "           dtype='int64', length=103)"
      ]
     },
     "execution_count": 186,
     "metadata": {},
     "output_type": "execute_result"
    }
   ],
   "source": [
    "newDf2.index"
   ]
  },
  {
   "cell_type": "code",
   "execution_count": 187,
   "metadata": {},
   "outputs": [
    {
     "data": {
      "text/plain": [
       "RangeIndex(start=0, stop=103, step=1)"
      ]
     },
     "execution_count": 187,
     "metadata": {},
     "output_type": "execute_result"
    }
   ],
   "source": [
    "#reset the index for newDf2 \n",
    "newDf2.reset_index(drop=True,inplace=True)\n",
    "newDf2.index"
   ]
  },
  {
   "cell_type": "code",
   "execution_count": 188,
   "metadata": {},
   "outputs": [
    {
     "name": "stdout",
     "output_type": "stream",
     "text": [
      "False   If value is false, there are no duplicates\n"
     ]
    }
   ],
   "source": [
    "#check for duplicate values in Postal code\n",
    "#If there are any postal codes with more than one row, prep for consolidating the neighborhoods into one row\n",
    "boolean = newDf2.duplicated(subset=['Postal_Code']).any()\n",
    "print(boolean, \"  If value is false, there are no duplicates\" )\n"
   ]
  },
  {
   "cell_type": "markdown",
   "metadata": {},
   "source": [
    "### Use geocoder. per forum using arcgis to get latitude and longitude values for the postal codes\n",
    "1.  Add the latitude and longitude columns to the dataframe, set default value of 0.0 and re-index because of the addition of new columns. "
   ]
  },
  {
   "cell_type": "code",
   "execution_count": 189,
   "metadata": {},
   "outputs": [
    {
     "data": {
      "text/plain": [
       "[43.65002250300006, -79.55408903099999]"
      ]
     },
     "execution_count": 189,
     "metadata": {},
     "output_type": "execute_result"
    }
   ],
   "source": [
    "import geocoder\n",
    "\n",
    "def get_latlon(postal_code):\n",
    "\n",
    "    lat_lng_coords = None\n",
    "\n",
    "    while(lat_lng_coords is None):\n",
    "\n",
    "        g = geocoder.arcgis('{}, Toronto, Ontario'.format(postal_code))\n",
    "\n",
    "        lat_lng_coords = g.latlng\n",
    "\n",
    "    return lat_lng_coords\n",
    "\n",
    "get_latlon('M9B') # test function"
   ]
  },
  {
   "cell_type": "code",
   "execution_count": 190,
   "metadata": {},
   "outputs": [
    {
     "data": {
      "text/html": [
       "<div>\n",
       "<style scoped>\n",
       "    .dataframe tbody tr th:only-of-type {\n",
       "        vertical-align: middle;\n",
       "    }\n",
       "\n",
       "    .dataframe tbody tr th {\n",
       "        vertical-align: top;\n",
       "    }\n",
       "\n",
       "    .dataframe thead th {\n",
       "        text-align: right;\n",
       "    }\n",
       "</style>\n",
       "<table border=\"1\" class=\"dataframe\">\n",
       "  <thead>\n",
       "    <tr style=\"text-align: right;\">\n",
       "      <th></th>\n",
       "      <th>Postal_Code</th>\n",
       "      <th>Borough</th>\n",
       "      <th>Neighborhood</th>\n",
       "      <th>Latitude</th>\n",
       "      <th>Longitude</th>\n",
       "    </tr>\n",
       "  </thead>\n",
       "  <tbody>\n",
       "    <tr>\n",
       "      <th>0</th>\n",
       "      <td>M3A</td>\n",
       "      <td>North York</td>\n",
       "      <td>Parkwoods</td>\n",
       "      <td>0.0</td>\n",
       "      <td>0.0</td>\n",
       "    </tr>\n",
       "    <tr>\n",
       "      <th>1</th>\n",
       "      <td>M4A</td>\n",
       "      <td>North York</td>\n",
       "      <td>Victoria Village</td>\n",
       "      <td>0.0</td>\n",
       "      <td>0.0</td>\n",
       "    </tr>\n",
       "    <tr>\n",
       "      <th>2</th>\n",
       "      <td>M5A</td>\n",
       "      <td>Downtown Toronto</td>\n",
       "      <td>Regent Park, Harbourfront</td>\n",
       "      <td>0.0</td>\n",
       "      <td>0.0</td>\n",
       "    </tr>\n",
       "    <tr>\n",
       "      <th>3</th>\n",
       "      <td>M6A</td>\n",
       "      <td>North York</td>\n",
       "      <td>Lawrence Manor, Lawrence Heights</td>\n",
       "      <td>0.0</td>\n",
       "      <td>0.0</td>\n",
       "    </tr>\n",
       "    <tr>\n",
       "      <th>4</th>\n",
       "      <td>M7A</td>\n",
       "      <td>Downtown Toronto</td>\n",
       "      <td>Queen's Park, Ontario Provincial Government</td>\n",
       "      <td>0.0</td>\n",
       "      <td>0.0</td>\n",
       "    </tr>\n",
       "  </tbody>\n",
       "</table>\n",
       "</div>"
      ],
      "text/plain": [
       "  Postal_Code           Borough                                 Neighborhood  \\\n",
       "0         M3A        North York                                    Parkwoods   \n",
       "1         M4A        North York                             Victoria Village   \n",
       "2         M5A  Downtown Toronto                    Regent Park, Harbourfront   \n",
       "3         M6A        North York             Lawrence Manor, Lawrence Heights   \n",
       "4         M7A  Downtown Toronto  Queen's Park, Ontario Provincial Government   \n",
       "\n",
       "  Latitude Longitude  \n",
       "0      0.0       0.0  \n",
       "1      0.0       0.0  \n",
       "2      0.0       0.0  \n",
       "3      0.0       0.0  \n",
       "4      0.0       0.0  "
      ]
     },
     "execution_count": 190,
     "metadata": {},
     "output_type": "execute_result"
    }
   ],
   "source": [
    "#add columns Latitude and Longitude to newDf2 dataframe with dummy values\n",
    "newDf2['Latitude'] = '0.0'\n",
    "newDf2['Longitude'] = '0.0'\n",
    "\n",
    "#need to reindex because of new columns added\n",
    "new_columns = ['Postal_Code', 'Borough', 'Neighborhood', 'Latitude', 'Longitude']\n",
    "newDf2.reindex(new_columns)\n",
    "newDf2.head()"
   ]
  },
  {
   "cell_type": "markdown",
   "metadata": {},
   "source": [
    "### Add latitude and longitude to the dataframe\n",
    "1. This is why we re-index, so that we can step through\n",
    "2. Use the function to get the latitude and longitude values for each postal code\n",
    "3. Populate the column with the extracted values"
   ]
  },
  {
   "cell_type": "code",
   "execution_count": 191,
   "metadata": {},
   "outputs": [
    {
     "data": {
      "text/html": [
       "<div>\n",
       "<style scoped>\n",
       "    .dataframe tbody tr th:only-of-type {\n",
       "        vertical-align: middle;\n",
       "    }\n",
       "\n",
       "    .dataframe tbody tr th {\n",
       "        vertical-align: top;\n",
       "    }\n",
       "\n",
       "    .dataframe thead th {\n",
       "        text-align: right;\n",
       "    }\n",
       "</style>\n",
       "<table border=\"1\" class=\"dataframe\">\n",
       "  <thead>\n",
       "    <tr style=\"text-align: right;\">\n",
       "      <th></th>\n",
       "      <th>Postal_Code</th>\n",
       "      <th>Borough</th>\n",
       "      <th>Neighborhood</th>\n",
       "      <th>Latitude</th>\n",
       "      <th>Longitude</th>\n",
       "    </tr>\n",
       "  </thead>\n",
       "  <tbody>\n",
       "    <tr>\n",
       "      <th>0</th>\n",
       "      <td>M3A</td>\n",
       "      <td>North York</td>\n",
       "      <td>Parkwoods</td>\n",
       "      <td>43.7529</td>\n",
       "      <td>-79.3356</td>\n",
       "    </tr>\n",
       "    <tr>\n",
       "      <th>1</th>\n",
       "      <td>M4A</td>\n",
       "      <td>North York</td>\n",
       "      <td>Victoria Village</td>\n",
       "      <td>43.7281</td>\n",
       "      <td>-79.3119</td>\n",
       "    </tr>\n",
       "    <tr>\n",
       "      <th>2</th>\n",
       "      <td>M5A</td>\n",
       "      <td>Downtown Toronto</td>\n",
       "      <td>Regent Park, Harbourfront</td>\n",
       "      <td>43.651</td>\n",
       "      <td>-79.353</td>\n",
       "    </tr>\n",
       "    <tr>\n",
       "      <th>3</th>\n",
       "      <td>M6A</td>\n",
       "      <td>North York</td>\n",
       "      <td>Lawrence Manor, Lawrence Heights</td>\n",
       "      <td>43.7233</td>\n",
       "      <td>-79.4512</td>\n",
       "    </tr>\n",
       "    <tr>\n",
       "      <th>4</th>\n",
       "      <td>M7A</td>\n",
       "      <td>Downtown Toronto</td>\n",
       "      <td>Queen's Park, Ontario Provincial Government</td>\n",
       "      <td>43.6618</td>\n",
       "      <td>-79.3894</td>\n",
       "    </tr>\n",
       "    <tr>\n",
       "      <th>5</th>\n",
       "      <td>M9A</td>\n",
       "      <td>Etobicoke</td>\n",
       "      <td>Islington Avenue, Humber Valley Village</td>\n",
       "      <td>43.6675</td>\n",
       "      <td>-79.529</td>\n",
       "    </tr>\n",
       "    <tr>\n",
       "      <th>6</th>\n",
       "      <td>M1B</td>\n",
       "      <td>Scarborough</td>\n",
       "      <td>Malvern, Rouge</td>\n",
       "      <td>43.8086</td>\n",
       "      <td>-79.1899</td>\n",
       "    </tr>\n",
       "    <tr>\n",
       "      <th>7</th>\n",
       "      <td>M3B</td>\n",
       "      <td>North York</td>\n",
       "      <td>Don Mills</td>\n",
       "      <td>43.7489</td>\n",
       "      <td>-79.3572</td>\n",
       "    </tr>\n",
       "    <tr>\n",
       "      <th>8</th>\n",
       "      <td>M4B</td>\n",
       "      <td>East York</td>\n",
       "      <td>Parkview Hill, Woodbine Gardens</td>\n",
       "      <td>43.7072</td>\n",
       "      <td>-79.3115</td>\n",
       "    </tr>\n",
       "    <tr>\n",
       "      <th>9</th>\n",
       "      <td>M5B</td>\n",
       "      <td>Downtown Toronto</td>\n",
       "      <td>Garden District, Ryerson</td>\n",
       "      <td>43.6575</td>\n",
       "      <td>-79.3775</td>\n",
       "    </tr>\n",
       "  </tbody>\n",
       "</table>\n",
       "</div>"
      ],
      "text/plain": [
       "  Postal_Code           Borough                                 Neighborhood  \\\n",
       "0         M3A        North York                                    Parkwoods   \n",
       "1         M4A        North York                             Victoria Village   \n",
       "2         M5A  Downtown Toronto                    Regent Park, Harbourfront   \n",
       "3         M6A        North York             Lawrence Manor, Lawrence Heights   \n",
       "4         M7A  Downtown Toronto  Queen's Park, Ontario Provincial Government   \n",
       "5         M9A         Etobicoke      Islington Avenue, Humber Valley Village   \n",
       "6         M1B       Scarborough                               Malvern, Rouge   \n",
       "7         M3B        North York                                    Don Mills   \n",
       "8         M4B         East York              Parkview Hill, Woodbine Gardens   \n",
       "9         M5B  Downtown Toronto                     Garden District, Ryerson   \n",
       "\n",
       "  Latitude Longitude  \n",
       "0  43.7529  -79.3356  \n",
       "1  43.7281  -79.3119  \n",
       "2   43.651   -79.353  \n",
       "3  43.7233  -79.4512  \n",
       "4  43.6618  -79.3894  \n",
       "5  43.6675   -79.529  \n",
       "6  43.8086  -79.1899  \n",
       "7  43.7489  -79.3572  \n",
       "8  43.7072  -79.3115  \n",
       "9  43.6575  -79.3775  "
      ]
     },
     "execution_count": 191,
     "metadata": {},
     "output_type": "execute_result"
    }
   ],
   "source": [
    "for i in range (newDf2['Postal_Code'].count()):\n",
    "        lat_long = []  #initialize variable\n",
    "        \n",
    "        postal_code = newDf2.iloc[i,0] #capture single postal code\n",
    "        lat_long = get_latlon(postal_code) #pull values \n",
    "        newDf2.iloc[i,3] = lat_long[0]\n",
    "        newDf2.iloc[i,4] = lat_long[1]\n",
    "        \n",
    "newDf2.head(10)"
   ]
  },
  {
   "cell_type": "code",
   "execution_count": 192,
   "metadata": {},
   "outputs": [
    {
     "data": {
      "text/plain": [
       "(103, 5)"
      ]
     },
     "execution_count": 192,
     "metadata": {},
     "output_type": "execute_result"
    }
   ],
   "source": [
    "newDf2.shape"
   ]
  }
 ],
 "metadata": {
  "kernelspec": {
   "display_name": "Python 3",
   "language": "python",
   "name": "python3"
  },
  "language_info": {
   "codemirror_mode": {
    "name": "ipython",
    "version": 3
   },
   "file_extension": ".py",
   "mimetype": "text/x-python",
   "name": "python",
   "nbconvert_exporter": "python",
   "pygments_lexer": "ipython3",
   "version": "3.7.6"
  }
 },
 "nbformat": 4,
 "nbformat_minor": 4
}
